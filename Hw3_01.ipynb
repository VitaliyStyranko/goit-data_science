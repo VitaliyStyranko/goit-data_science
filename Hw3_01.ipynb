{
 "cells": [
  {
   "metadata": {},
   "cell_type": "markdown",
   "source": "### Напишіть функцію гіпотези лінійної регресії у векторному вигляді; створіть функцію для обчислення функції втрат у векторному вигляді; реалізуйте один крок градієнтного спуску;",
   "id": "75fcec428c447c5c"
  },
  {
   "metadata": {
    "ExecuteTime": {
     "end_time": "2024-06-05T15:21:06.457565Z",
     "start_time": "2024-06-05T15:21:06.453262Z"
    }
   },
   "cell_type": "code",
   "source": [
    "import numpy as np\n",
    "import pandas as pd\n",
    "\n",
    "# Functions for linear regression\n",
    "def hypothesis(X, theta):\n",
    "    return np.dot(X, theta)\n",
    "\n",
    "# Loss functions in vector form\n",
    "def compute_cost(X, y, theta):\n",
    "    m = len(y)  # number of training examples\n",
    "    predictions = X.dot(theta)\n",
    "    errors = predictions - y\n",
    "    squared_errors = errors.T.dot(errors)\n",
    "    cost = (1 / (2 * m)) * squared_errors\n",
    "    return cost\n",
    "\n",
    "# Perform one step of gradient descent\n",
    "def gradient_descent_step(X, y, theta, alpha):\n",
    "    m = len(y)\n",
    "    errors = hypothesis(X, theta) - y\n",
    "    gradient = (1 / m) * np.dot(X.T, errors)\n",
    "    return theta - alpha * gradient"
   ],
   "id": "1321aa99da1e952",
   "outputs": [],
   "execution_count": 5
  },
  {
   "metadata": {},
   "cell_type": "markdown",
   "source": "### Знайти найкращі параметри w⃗ для датасету використовуючи написані вами функції, прогнозуючу ціну на будинок залежно від площі, кількості ванних кімнат та кількості спалень;",
   "id": "c9ba097ce9fa6ba"
  },
  {
   "metadata": {
    "ExecuteTime": {
     "end_time": "2024-06-05T15:21:06.509778Z",
     "start_time": "2024-06-05T15:21:06.478162Z"
    }
   },
   "cell_type": "code",
   "source": [
    "# Loading data\n",
    "housing_data = pd.read_csv('Housing.csv')\n",
    "X = housing_data[['area', 'bedrooms', 'bathrooms']]\n",
    "y = housing_data['price']\n",
    "\n",
    "# Data normalization\n",
    "X_normalized = (X - X.mean()) / X.std()\n",
    "y_normalized = (y - y.mean()) / y.std()\n",
    "X_normalized.insert(0, 'intercept', 1)\n",
    "\n",
    "# Parameter initialization\n",
    "theta = np.zeros(X_normalized.shape[1])\n",
    "alpha = 0.01\n",
    "iterations = 1000\n",
    "\n",
    "# Gradient descent\n",
    "for i in range(iterations, 0 ,-1):\n",
    "    theta = gradient_descent_step(X_normalized.to_numpy(), y_normalized.to_numpy(), theta, alpha)\n",
    "    if i % 100 == 0:\n",
    "        cost = compute_cost(X_normalized.to_numpy(), y_normalized.to_numpy(), theta)\n",
    "        print(f\"Iteration {i}: Cost = {cost:.4f}, Theta = {theta}\")\n",
    "\n",
    "# Final output of values\n",
    "print(\"Final theta values and their descriptions:\")\n",
    "print(f\"Theta_0 (bias): {theta[0]:.2e}\")\n",
    "print(f\"Theta_1 (coefficient for area): {theta[1]:.3f}\")\n",
    "print(f\"Theta_2 (coefficient for number of bedrooms): {theta[2]:.3f}\")\n",
    "print(f\"Theta_3 (coefficient for number of bathrooms): {theta[3]:.3f}\")"
   ],
   "id": "40807e1213a236f6",
   "outputs": [
    {
     "name": "stdout",
     "output_type": "stream",
     "text": [
      "Iteration 1000: Cost = 0.4923, Theta = [7.29284115e-19 5.35013864e-03 3.65821560e-03 5.16595715e-03]\n",
      "Iteration 900: Cost = 0.2717, Theta = [1.58413547e-16 3.06131682e-01 1.68069716e-01 2.75000398e-01]\n",
      "Iteration 800: Cost = 0.2576, Theta = [2.33448327e-16 3.95057516e-01 1.82787216e-01 3.40950977e-01]\n",
      "Iteration 700: Cost = 0.2562, Theta = [2.63943811e-16 4.23728032e-01 1.75618349e-01 3.59588219e-01]\n",
      "Iteration 600: Cost = 0.2560, Theta = [2.78513196e-16 4.33666698e-01 1.68950672e-01 3.66185057e-01]\n",
      "Iteration 500: Cost = 0.2560, Theta = [2.77682057e-16 4.37288935e-01 1.64964762e-01 3.69100049e-01]\n",
      "Iteration 400: Cost = 0.2560, Theta = [2.81797012e-16 4.38645790e-01 1.62826047e-01 3.70579497e-01]\n",
      "Iteration 300: Cost = 0.2560, Theta = [2.81055505e-16 4.39158162e-01 1.61716131e-01 3.71376741e-01]\n",
      "Iteration 200: Cost = 0.2560, Theta = [2.83744486e-16 4.39349948e-01 1.61144593e-01 3.71814374e-01]\n",
      "Iteration 100: Cost = 0.2560, Theta = [2.89973957e-16 4.39419845e-01 1.60849765e-01 3.72055095e-01]\n",
      "Final theta values and their descriptions:\n",
      "Theta_0 (bias): 2.89e-16\n",
      "Theta_1 (coefficient for area): 0.439\n",
      "Theta_2 (coefficient for number of bedrooms): 0.161\n",
      "Theta_3 (coefficient for number of bathrooms): 0.372\n"
     ]
    }
   ],
   "execution_count": 6
  },
  {
   "metadata": {
    "ExecuteTime": {
     "end_time": "2024-06-05T15:21:06.515339Z",
     "start_time": "2024-06-05T15:21:06.510787Z"
    }
   },
   "cell_type": "code",
   "source": [
    "def predict_price(area, bedrooms, bathrooms, theta, X_mean, X_std, y_mean, y_std):\n",
    "    \n",
    "    # Normalizing the input data\n",
    "    area_norm = (area - X_mean['area']) / X_std['area']\n",
    "    bedrooms_norm = (bedrooms - X_mean['bedrooms']) / X_std['bedrooms']\n",
    "    bathrooms_norm = (bathrooms - X_mean['bathrooms']) / X_std['bathrooms']\n",
    "\n",
    "    # Creating the feature vector\n",
    "    X_vector = np.array([1, area_norm, bedrooms_norm, bathrooms_norm])  # 1 for intercept\n",
    "\n",
    "    # Predicting the normalized price\n",
    "    predicted_norm_price = np.dot(X_vector, theta)\n",
    "\n",
    "    # Denormalizing the predicted price (converted back to the actual price scale)\n",
    "    predicted_price = (predicted_norm_price * y_std) + y_mean\n",
    "\n",
    "    return predicted_price\n",
    "\n",
    "# Example model parameters, means, and standard deviations\n",
    "theta_example = np.array([0, 0.5, 0.2, 0.1])\n",
    "X_mean = {'area': 2000, 'bedrooms': 3, 'bathrooms': 2}\n",
    "X_std = {'area': 500, 'bedrooms': 1, 'bathrooms': 1}\n",
    "y_mean = 500000\n",
    "y_std = 150000\n",
    "\n",
    "# Using the function to make a prediction\n",
    "predicted_price = predict_price(7420, 4, 2, theta_example, X_mean, X_std, y_mean, y_std)\n",
    "print(f\"Predicted House Price: ${predicted_price:.2f}\")"
   ],
   "id": "4e66eae6de0d8fe6",
   "outputs": [
    {
     "name": "stdout",
     "output_type": "stream",
     "text": [
      "Predicted House Price: $1343000.00\n"
     ]
    }
   ],
   "execution_count": 7
  },
  {
   "metadata": {},
   "cell_type": "markdown",
   "source": "### знайдіть ці ж параметри за допомогою аналітичного рішення;",
   "id": "ac2cd2493a184c84"
  },
  {
   "metadata": {
    "ExecuteTime": {
     "end_time": "2024-06-05T15:21:06.519964Z",
     "start_time": "2024-06-05T15:21:06.515339Z"
    }
   },
   "cell_type": "code",
   "source": [
    "# Calculation of parameters using normal equations\n",
    "X_transpose = X_normalized.to_numpy().T\n",
    "theta_analytical = np.linalg.inv(X_transpose.dot(X_normalized.to_numpy())).dot(X_transpose).dot(y_normalized.to_numpy())\n",
    "\n",
    "# Display of final parameter values with analytical solution descriptions\n",
    "print(\"Final theta values and their descriptions from the analytical solution:\")\n",
    "print(f\"Theta_0 (bias): {theta_analytical[0]:.2e}\")\n",
    "print(f\"Theta_1 (coefficient for area): {theta_analytical[1]:.3f}\")\n",
    "print(f\"Theta_2 (coefficient for number of bedrooms): {theta_analytical[2]:.3f}\")\n",
    "print(f\"Theta_3 (coefficient for number of bathrooms): {theta_analytical[3]:.3f}\")\n"
   ],
   "id": "489a7f425334c377",
   "outputs": [
    {
     "name": "stdout",
     "output_type": "stream",
     "text": [
      "Final theta values and their descriptions from the analytical solution:\n",
      "Theta_0 (bias): 2.40e-16\n",
      "Theta_1 (coefficient for area): 0.439\n",
      "Theta_2 (coefficient for number of bedrooms): 0.161\n",
      "Theta_3 (coefficient for number of bathrooms): 0.372\n"
     ]
    }
   ],
   "execution_count": 8
  },
  {
   "metadata": {},
   "cell_type": "markdown",
   "source": "### для перевірки спрогнозованих значень, використайте LinearRegression з бібліотеки scikit-learn та порівняйте результати",
   "id": "ea57d9be6589b72d"
  },
  {
   "metadata": {
    "ExecuteTime": {
     "end_time": "2024-06-05T15:21:06.649859Z",
     "start_time": "2024-06-05T15:21:06.520970Z"
    }
   },
   "cell_type": "code",
   "source": [
    "from sklearn.linear_model import LinearRegression\n",
    "\n",
    "# Creating and training the LinearRegression model\n",
    "model = LinearRegression()\n",
    "model.fit(X_normalized, y_normalized)\n",
    "\n",
    "# Output of coefficients\n",
    "sklearn_theta = [model.intercept_] + list(model.coef_[1:])  # intercept + slopes for area, bedrooms, bathrooms\n",
    "\n",
    "# Display of parameter values obtained using scikit-learn\n",
    "print(\"Theta values from scikit-learn LinearRegression:\")\n",
    "print(f\"Theta_0 (bias): {sklearn_theta[0]:.2e}\")\n",
    "print(f\"Theta_1 (coefficient for area): {sklearn_theta[1]:.3f}\")\n",
    "print(f\"Theta_2 (coefficient for number of bedrooms): {sklearn_theta[2]:.3f}\")\n",
    "print(f\"Theta_3 (coefficient for number of bathrooms): {sklearn_theta[3]:.3f}\")"
   ],
   "id": "1d60ab6266804e2a",
   "outputs": [
    {
     "name": "stdout",
     "output_type": "stream",
     "text": [
      "Theta values from scikit-learn LinearRegression:\n",
      "Theta_0 (bias): 3.11e-16\n",
      "Theta_1 (coefficient for area): 0.439\n",
      "Theta_2 (coefficient for number of bedrooms): 0.161\n",
      "Theta_3 (coefficient for number of bathrooms): 0.372\n"
     ]
    }
   ],
   "execution_count": 9
  }
 ],
 "metadata": {
  "kernelspec": {
   "display_name": "Python 3",
   "language": "python",
   "name": "python3"
  },
  "language_info": {
   "codemirror_mode": {
    "name": "ipython",
    "version": 2
   },
   "file_extension": ".py",
   "mimetype": "text/x-python",
   "name": "python",
   "nbconvert_exporter": "python",
   "pygments_lexer": "ipython2",
   "version": "2.7.6"
  }
 },
 "nbformat": 4,
 "nbformat_minor": 5
}
