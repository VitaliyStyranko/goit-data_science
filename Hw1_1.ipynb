{
 "cells": [
  {
   "cell_type": "code",
   "id": "initial_id",
   "metadata": {
    "collapsed": true,
    "ExecuteTime": {
     "end_time": "2024-05-17T03:12:04.829021Z",
     "start_time": "2024-05-17T03:12:04.745503Z"
    }
   },
   "source": "import numpy as np",
   "outputs": [],
   "execution_count": 2
  },
  {
   "metadata": {},
   "cell_type": "code",
   "outputs": [],
   "execution_count": null,
   "source": "# 1 Створіть одновимірний масив (вектор) з першими 10-ма натуральними числами та виведіть його значення.",
   "id": "c717f562a75674e3"
  },
  {
   "metadata": {
    "ExecuteTime": {
     "end_time": "2024-05-16T22:52:16.029233Z",
     "start_time": "2024-05-16T22:52:16.025928Z"
    }
   },
   "cell_type": "code",
   "source": [
    "a = np.arange(1, 11)\n",
    "print(a)"
   ],
   "id": "9276d4179e407dbe",
   "outputs": [
    {
     "name": "stdout",
     "output_type": "stream",
     "text": [
      "[ 1  2  3  4  5  6  7  8  9 10]\n"
     ]
    }
   ],
   "execution_count": 9
  },
  {
   "metadata": {},
   "cell_type": "code",
   "outputs": [],
   "execution_count": null,
   "source": "# 2 Створіть двовимірний масив (матрицю) розміром 3x3, заповніть його нулями та виведіть його значення.",
   "id": "76f01cd26e3386ee"
  },
  {
   "metadata": {
    "ExecuteTime": {
     "end_time": "2024-05-16T23:04:53.360367Z",
     "start_time": "2024-05-16T23:04:53.357378Z"
    }
   },
   "cell_type": "code",
   "source": [
    "a = np.zeros((3, 3))\n",
    "print(a)"
   ],
   "id": "75f5afcaae1fc491",
   "outputs": [
    {
     "name": "stdout",
     "output_type": "stream",
     "text": [
      "[[0. 0. 0.]\n",
      " [0. 0. 0.]\n",
      " [0. 0. 0.]]\n"
     ]
    }
   ],
   "execution_count": 12
  },
  {
   "metadata": {},
   "cell_type": "code",
   "outputs": [],
   "execution_count": null,
   "source": "# 3 Створіть масив розміром 5x5, заповніть його випадковими цілими числами в діапазоні від 1 до 10 та виведіть його значення.",
   "id": "e50ff054f4588530"
  },
  {
   "metadata": {
    "ExecuteTime": {
     "end_time": "2024-05-16T23:17:16.616146Z",
     "start_time": "2024-05-16T23:17:16.613Z"
    }
   },
   "cell_type": "code",
   "source": [
    "a = np.random.randint(1,11, size=(5,5))\n",
    "print(a)"
   ],
   "id": "557f1c73913a4c3",
   "outputs": [
    {
     "name": "stdout",
     "output_type": "stream",
     "text": [
      "[[ 4 10  1  4  5]\n",
      " [ 9  8 10  1  1]\n",
      " [ 9  6  8  6  6]\n",
      " [ 7  7  1  5  1]\n",
      " [10  3  9  3  4]]\n"
     ]
    }
   ],
   "execution_count": 17
  },
  {
   "metadata": {},
   "cell_type": "code",
   "outputs": [],
   "execution_count": null,
   "source": "# 4 Створіть масив розміром 4x4, заповніть його випадковими дійсними числами в діапазоні від 0 до 1 та виведіть його значення.",
   "id": "8ffb99c1a252bcb1"
  },
  {
   "metadata": {
    "ExecuteTime": {
     "end_time": "2024-05-16T23:21:17.919628Z",
     "start_time": "2024-05-16T23:21:17.915967Z"
    }
   },
   "cell_type": "code",
   "source": [
    "a = np.random.random((4,4))\n",
    "print(a)"
   ],
   "id": "b303ae9b5564fc8d",
   "outputs": [
    {
     "name": "stdout",
     "output_type": "stream",
     "text": [
      "[[0.81406808 0.73074942 0.37437165 0.981322  ]\n",
      " [0.78395485 0.54614961 0.93359768 0.68092949]\n",
      " [0.41160493 0.57179346 0.34174536 0.28907917]\n",
      " [0.1851632  0.97139019 0.76766911 0.89160101]]\n"
     ]
    }
   ],
   "execution_count": 20
  },
  {
   "metadata": {},
   "cell_type": "code",
   "outputs": [],
   "execution_count": null,
   "source": "# 5 Створіть два одновимірних масиви розміром 5, заповніть їх випадковими цілими числами в діапазоні від 1 до 10 та виконайте на них поелементні операції додавання, віднімання та множення.",
   "id": "d6182a90f5957d18"
  },
  {
   "metadata": {
    "ExecuteTime": {
     "end_time": "2024-05-17T01:16:43.261615Z",
     "start_time": "2024-05-17T01:16:43.257863Z"
    }
   },
   "cell_type": "code",
   "source": [
    "a = np.random.randint(1, 11, size=5)\n",
    "b = np.random.randint(1, 11, size=5)\n",
    "add = a+b\n",
    "sub = a-b\n",
    "mul = a*b\n",
    "print(a)\n",
    "print(b)\n",
    "print(\"Addition\")\n",
    "print(add)\n",
    "print(\"Subtraction\")\n",
    "print(sub)\n",
    "print(\"Multiplication\")\n",
    "print(mul)"
   ],
   "id": "2647adae05c0745e",
   "outputs": [
    {
     "name": "stdout",
     "output_type": "stream",
     "text": [
      "[5 8 5 4 4]\n",
      "[1 8 7 7 2]\n",
      "Addition\n",
      "[ 6 16 12 11  6]\n",
      "Subtraction\n",
      "[ 4  0 -2 -3  2]\n",
      "Multiplication\n",
      "[ 5 64 35 28  8]\n"
     ]
    }
   ],
   "execution_count": 136
  },
  {
   "metadata": {},
   "cell_type": "code",
   "outputs": [],
   "execution_count": null,
   "source": "# 6 Створіть два вектори розміром 7, заповніть довільними числами та знайдіть їх скалярний добуток.",
   "id": "e059c8fd1ca042fe"
  },
  {
   "metadata": {
    "ExecuteTime": {
     "end_time": "2024-05-17T00:44:24.784572Z",
     "start_time": "2024-05-17T00:44:24.780668Z"
    }
   },
   "cell_type": "code",
   "source": [
    "a = np.random.random(7)\n",
    "b = np.random.random(7)\n",
    "scalar_product = np.dot(a,b)\n",
    "print(a)\n",
    "print(b)\n",
    "print(\"Scalar product of vector a and vector b\")\n",
    "print(scalar_product)\n"
   ],
   "id": "4d8ba9cf9189c90e",
   "outputs": [
    {
     "name": "stdout",
     "output_type": "stream",
     "text": [
      "[0.42795996 0.7450554  0.06577338 0.24903697 0.85543911 0.47119291\n",
      " 0.34822434]\n",
      "[0.7336854  0.68010387 0.51300616 0.80015622 0.70388398 0.52281331\n",
      " 0.42398134]\n",
      "Scalar product of vector a and vector b\n",
      "2.0498301045714546\n"
     ]
    }
   ],
   "execution_count": 77
  },
  {
   "metadata": {
    "ExecuteTime": {
     "end_time": "2024-05-16T23:44:57.254786Z",
     "start_time": "2024-05-16T23:44:57.251558Z"
    }
   },
   "cell_type": "code",
   "source": "# 7 Створіть дві матриці розміром 2x2 та 2x3, заповніть їх випадковими цілими числами в діапазоні від 1 до 10 та перемножте їх між собою.",
   "id": "a557f6cb71eb888d",
   "outputs": [],
   "execution_count": 32
  },
  {
   "metadata": {
    "ExecuteTime": {
     "end_time": "2024-05-17T01:17:26.542194Z",
     "start_time": "2024-05-17T01:17:26.538882Z"
    }
   },
   "cell_type": "code",
   "source": [
    "a = np.random.randint(1,11, size=(2,2))\n",
    "b = np.random.randint(1,11, size=(2,3))\n",
    "scalar_product = np.dot(a,b)\n",
    "print(a)\n",
    "print(b)\n",
    "print(\"Product of the two matrices:\")\n",
    "print(scalar_product)"
   ],
   "id": "218879be0aeaa9d0",
   "outputs": [
    {
     "name": "stdout",
     "output_type": "stream",
     "text": [
      "[[10  7]\n",
      " [ 3  1]]\n",
      "[[ 9  1  4]\n",
      " [ 9 10  5]]\n",
      "Product of the two matrices:\n",
      "[[153  80  75]\n",
      " [ 36  13  17]]\n"
     ]
    }
   ],
   "execution_count": 138
  },
  {
   "metadata": {},
   "cell_type": "code",
   "outputs": [],
   "execution_count": null,
   "source": "# 8 Створіть матрицю розміром 3x3, заповніть її випадковими цілими числами в діапазоні від 1 до 10 та знайдіть її обернену матрицю.",
   "id": "68850d73412d5353"
  },
  {
   "metadata": {
    "ExecuteTime": {
     "end_time": "2024-05-17T01:20:58.132805Z",
     "start_time": "2024-05-17T01:20:58.129336Z"
    }
   },
   "cell_type": "code",
   "source": [
    "a = np.random.randint(1,11, size=(3,3))\n",
    "a_inv = np.linalg.inv(a)\n",
    "print(a)\n",
    "print(\"Inverse of the 3x3 matrix:\")\n",
    "print(a_inv)"
   ],
   "id": "c328aa04cc6b4ccd",
   "outputs": [
    {
     "name": "stdout",
     "output_type": "stream",
     "text": [
      "[[5 4 7]\n",
      " [2 7 8]\n",
      " [1 6 3]]\n",
      "Inverse of the 3x3 matrix:\n",
      "[[ 0.29347826 -0.32608696  0.18478261]\n",
      " [-0.02173913 -0.08695652  0.2826087 ]\n",
      " [-0.05434783  0.2826087  -0.29347826]]\n"
     ]
    }
   ],
   "execution_count": 147
  },
  {
   "metadata": {},
   "cell_type": "code",
   "outputs": [],
   "execution_count": null,
   "source": "# 9 Створіть матрицю розміром 4x4, заповніть її випадковими дійсними числами в діапазоні від 0 до 1 та транспонуйте її.",
   "id": "efe8af88d0569ba0"
  },
  {
   "metadata": {
    "ExecuteTime": {
     "end_time": "2024-05-17T01:18:22.590910Z",
     "start_time": "2024-05-17T01:18:22.586657Z"
    }
   },
   "cell_type": "code",
   "source": [
    "a = np.random.random((4,4))\n",
    "b = a.T\n",
    "print(\"Original matrix:\")\n",
    "print(a)\n",
    "print(\"Transformed matrix:\")\n",
    "print(b)"
   ],
   "id": "c583e853ef26df25",
   "outputs": [
    {
     "name": "stdout",
     "output_type": "stream",
     "text": [
      "Original matrix:\n",
      "[[0.58862256 0.64198072 0.05300179 0.85390104]\n",
      " [0.74914762 0.38951761 0.29054874 0.22359524]\n",
      " [0.54987623 0.63280963 0.42535905 0.73928077]\n",
      " [0.35132583 0.86451131 0.15745836 0.8799599 ]]\n",
      "Transformed matrix:\n",
      "[[0.58862256 0.74914762 0.54987623 0.35132583]\n",
      " [0.64198072 0.38951761 0.63280963 0.86451131]\n",
      " [0.05300179 0.29054874 0.42535905 0.15745836]\n",
      " [0.85390104 0.22359524 0.73928077 0.8799599 ]]\n"
     ]
    }
   ],
   "execution_count": 142
  },
  {
   "metadata": {},
   "cell_type": "code",
   "outputs": [],
   "execution_count": null,
   "source": "# 10 Створіть матрицю розміром 3x4 та вектор розміром 4, заповніть їх випадковими цілими числами в діапазоні від 1 до 10 та перемножте матрицю на вектор.",
   "id": "12f91eea45372668"
  },
  {
   "metadata": {
    "ExecuteTime": {
     "end_time": "2024-05-17T01:19:49.517517Z",
     "start_time": "2024-05-17T01:19:49.513513Z"
    }
   },
   "cell_type": "code",
   "source": [
    "a = np.random.randint(1, 11, size=(3,4))\n",
    "print(\"Matrix: a\")\n",
    "print(a)\n",
    "b = np.random.randint(1, 11, size=(4,))\n",
    "print(\"Vector: b\")\n",
    "print(b)\n",
    "mul = np.dot(a, b)\n",
    "print(\"Multiplying the matrix by the vector\")\n",
    "print(mul)\n"
   ],
   "id": "f1a45e33da211d35",
   "outputs": [
    {
     "name": "stdout",
     "output_type": "stream",
     "text": [
      "Matrix: a\n",
      "[[ 6  5  7  3]\n",
      " [ 3 10  8  6]\n",
      " [ 2  5  9  6]]\n",
      "Vector: b\n",
      "[10  8  4  3]\n",
      "Multiplying the matrix by the vector\n",
      "[137 160 114]\n"
     ]
    }
   ],
   "execution_count": 144
  },
  {
   "metadata": {},
   "cell_type": "code",
   "outputs": [],
   "execution_count": null,
   "source": "# 11 Створіть матрицю розміром 2x3 та вектор розміром 3, заповніть їх випадковими дійсними числами в діапазоні від 0 до 1 та перемножте матрицю на вектор.",
   "id": "7452e26ac10d05dc"
  },
  {
   "metadata": {
    "ExecuteTime": {
     "end_time": "2024-05-17T01:07:48.074449Z",
     "start_time": "2024-05-17T01:07:48.070805Z"
    }
   },
   "cell_type": "code",
   "source": [
    "a = np.random.rand(2, 3)\n",
    "print(\"Matrix: a\")\n",
    "print(a)\n",
    "b = np.random.rand(3)\n",
    "print(\"Vector: b\")\n",
    "print(b)\n",
    "scalar_product = np.dot(a,b)\n",
    "print(\"Product of the matrix and vector\")\n",
    "print(scalar_product)"
   ],
   "id": "60de17dc8eb1e425",
   "outputs": [
    {
     "name": "stdout",
     "output_type": "stream",
     "text": [
      "Matrix: a\n",
      "[[0.63199728 0.9878396  0.85561572]\n",
      " [0.91174659 0.1240521  0.38718029]]\n",
      "Vector: b\n",
      "[0.13304674 0.06414508 0.86215901]\n",
      "Product of the matrix and vector\n",
      "[0.88512703 0.46307322]\n"
     ]
    }
   ],
   "execution_count": 123
  },
  {
   "metadata": {},
   "cell_type": "code",
   "outputs": [],
   "execution_count": null,
   "source": "# 12 Створіть дві матриці розміром 2x2, заповніть їх випадковими цілими числами в діапазоні від 1 до 10 та виконайте їхнє поелементне множення.",
   "id": "69d20b260d8c66b5"
  },
  {
   "metadata": {
    "ExecuteTime": {
     "end_time": "2024-05-17T00:55:37.990637Z",
     "start_time": "2024-05-17T00:55:37.986497Z"
    }
   },
   "cell_type": "code",
   "source": [
    "a = np.random.randint(1, 11, size=(2, 2))\n",
    "b = np.random.randint(1, 11, size=(2, 2))\n",
    "mul = a*b\n",
    "print(a)\n",
    "print(b)\n",
    "print(\"Multiplication of the two matrices:\")\n",
    "print(mul)"
   ],
   "id": "c7c526180c047d0b",
   "outputs": [
    {
     "name": "stdout",
     "output_type": "stream",
     "text": [
      "[[4 9]\n",
      " [2 9]]\n",
      "[[ 7 10]\n",
      " [ 9  9]]\n",
      "Multiplication of the two matrices:\n",
      "[[28 90]\n",
      " [18 81]]\n"
     ]
    }
   ],
   "execution_count": 99
  },
  {
   "metadata": {},
   "cell_type": "code",
   "outputs": [],
   "execution_count": null,
   "source": "# 13 Створіть дві матриці розміром 2x2, заповніть їх випадковими цілими числами в діапазоні від 1 до 10 та знайдіть їх добуток.",
   "id": "db3c2077d4093188"
  },
  {
   "metadata": {
    "ExecuteTime": {
     "end_time": "2024-05-17T01:00:24.329827Z",
     "start_time": "2024-05-17T01:00:24.326594Z"
    }
   },
   "cell_type": "code",
   "source": [
    "a = np.random.randint(1, 11, size=(2, 2))\n",
    "b = np.random.randint(1, 11, size=(2, 2))\n",
    "matrix_product = np.dot(a,b)\n",
    "print(a)\n",
    "print(b)\n",
    "print(\"Products of the two matrices:\")\n",
    "print(matrix_product)"
   ],
   "id": "f7f72689233f20f9",
   "outputs": [
    {
     "name": "stdout",
     "output_type": "stream",
     "text": [
      "[[1 9]\n",
      " [8 9]]\n",
      "[[ 3  8]\n",
      " [ 9 10]]\n",
      "Products of the two matrices:\n",
      "[[ 84  98]\n",
      " [105 154]]\n"
     ]
    }
   ],
   "execution_count": 117
  },
  {
   "metadata": {},
   "cell_type": "code",
   "outputs": [],
   "execution_count": null,
   "source": "# 14 Створіть матрицю розміром 5x5, заповніть її випадковими цілими числами в діапазоні від 1 до 100 та знайдіть суму елементів матриці.",
   "id": "32e6894cca50c7b"
  },
  {
   "metadata": {
    "ExecuteTime": {
     "end_time": "2024-05-17T01:24:19.532003Z",
     "start_time": "2024-05-17T01:24:19.527799Z"
    }
   },
   "cell_type": "code",
   "source": [
    "a = np.random.randint(1, 101, size=(5, 5))\n",
    "sum_element = np.sum(a)\n",
    "print(a)\n",
    "print('Sum of the matrix elements:', sum_element)\n"
   ],
   "id": "a77ff27cb1d0a233",
   "outputs": [
    {
     "name": "stdout",
     "output_type": "stream",
     "text": [
      "[[59 96 70 14 13]\n",
      " [97 49 38 90 48]\n",
      " [85 57 46 38 29]\n",
      " [87 78 28 75 57]\n",
      " [71 41 34 44 75]]\n",
      "Sum of the matrix elements: 1419\n"
     ]
    }
   ],
   "execution_count": 148
  },
  {
   "metadata": {},
   "cell_type": "code",
   "outputs": [],
   "execution_count": null,
   "source": "# 15 Створіть дві матриці розміром 4x4, заповніть їх випадковими цілими числами в діапазоні від 1 до 10 та знайдіть їхню різницю.",
   "id": "3f5a394494b2eb09"
  },
  {
   "metadata": {
    "ExecuteTime": {
     "end_time": "2024-05-17T01:15:18.360642Z",
     "start_time": "2024-05-17T01:15:18.356646Z"
    }
   },
   "cell_type": "code",
   "source": [
    "a = np.random.randint(1, 11, size=(4, 4))\n",
    "b = np.random.randint(1, 11, size=(4, 4))\n",
    "difference = a - b\n",
    "print(\"matrix: a\")\n",
    "print(a)\n",
    "print(\"matrix: b\")\n",
    "print(b)\n",
    "print(\"Difference:\")\n",
    "print(difference)"
   ],
   "id": "975b384ca833829b",
   "outputs": [
    {
     "name": "stdout",
     "output_type": "stream",
     "text": [
      "matrix: a\n",
      "[[10  4  2  4]\n",
      " [ 6  9  1  3]\n",
      " [ 6 10  8 10]\n",
      " [ 9  5  1  5]]\n",
      "matrix: b\n",
      "[[ 6 10  8  5]\n",
      " [ 6 10  2  3]\n",
      " [ 3  5  6 10]\n",
      " [ 7  7  2  8]]\n",
      "Difference:\n",
      "[[ 4 -6 -6 -1]\n",
      " [ 0 -1 -1  0]\n",
      " [ 3  5  2  0]\n",
      " [ 2 -2 -1 -3]]\n"
     ]
    }
   ],
   "execution_count": 134
  },
  {
   "metadata": {},
   "cell_type": "code",
   "outputs": [],
   "execution_count": null,
   "source": "# 16 Створіть матрицю розміром 3x3, заповніть її випадковими дійсними числами в діапазоні від 0 до 1 та знайдіть вектор-стовпчик, що містить суму елементів кожного рядка матриці.",
   "id": "a7bc851ed596692b"
  },
  {
   "metadata": {
    "ExecuteTime": {
     "end_time": "2024-05-17T02:14:27.133135Z",
     "start_time": "2024-05-17T02:14:27.127726Z"
    }
   },
   "cell_type": "code",
   "source": [
    "a = np.random.rand(3, 3)\n",
    "print(\"Matrix: a\")\n",
    "print(a)\n",
    "row_sum = np.sum(a, axis=1)\n",
    "column_vector = row_sum.reshape(3, 1)\n",
    "print('Row sum')\n",
    "print(row_sum)\n",
    "print(\"Column vector\")\n",
    "print(column_vector)\n"
   ],
   "id": "d9f854c113b56937",
   "outputs": [
    {
     "name": "stdout",
     "output_type": "stream",
     "text": [
      "Matrix: a\n",
      "[[0.69410995 0.97967223 0.9706235 ]\n",
      " [0.90670371 0.52085627 0.19882256]\n",
      " [0.90866113 0.22520458 0.93618484]]\n",
      "Row sum\n",
      "[2.64440568 1.62638253 2.07005054]\n",
      "Column vector\n",
      "[[2.64440568]\n",
      " [1.62638253]\n",
      " [2.07005054]]\n"
     ]
    }
   ],
   "execution_count": 166
  },
  {
   "metadata": {},
   "cell_type": "code",
   "outputs": [],
   "execution_count": null,
   "source": "# 17 Створіть матрицю розміром 3x4 з довільними цілими числами і створінь матрицю з квадратами цих чисел.",
   "id": "d474b3551945270e"
  },
  {
   "metadata": {
    "ExecuteTime": {
     "end_time": "2024-05-17T02:29:24.924146Z",
     "start_time": "2024-05-17T02:29:24.920261Z"
    }
   },
   "cell_type": "code",
   "source": [
    "a = np.random.randint(1, 11, size=(3, 4))\n",
    "print(\"Matrix a\")\n",
    "print(a)\n",
    "square_matrix = np.square(a)\n",
    "print(\"Matrix of squares of these numbers\")\n",
    "print(square_matrix)"
   ],
   "id": "b4b715ecf90087e3",
   "outputs": [
    {
     "name": "stdout",
     "output_type": "stream",
     "text": [
      "Matrix a\n",
      "[[ 4  8  4  9]\n",
      " [ 6  4  4  6]\n",
      " [ 3  9  7 10]]\n",
      "Matrix of squares of these numbers\n",
      "[[ 16  64  16  81]\n",
      " [ 36  16  16  36]\n",
      " [  9  81  49 100]]\n"
     ]
    }
   ],
   "execution_count": 180
  },
  {
   "metadata": {},
   "cell_type": "code",
   "outputs": [],
   "execution_count": null,
   "source": "# 18 Створіть вектор розміром 4, заповніть його випадковими цілими числами в діапазоні від 1 до 50 та знайдіть вектор з квадратними коренями цих чисел.",
   "id": "2094a2e3f5d4ef6a"
  },
  {
   "metadata": {
    "ExecuteTime": {
     "end_time": "2024-05-17T02:38:38.708886Z",
     "start_time": "2024-05-17T02:38:38.705057Z"
    }
   },
   "cell_type": "code",
   "source": [
    "a = np.random.randint(1, 51, size=4)\n",
    "sqrt_vector = np.sqrt(a)\n",
    "print(\"Original vector\")\n",
    "print(a)\n",
    "print(\"Vector with the square of these integers\")\n",
    "print(sqrt_vector)\n"
   ],
   "id": "1ae90074c81641f9",
   "outputs": [
    {
     "name": "stdout",
     "output_type": "stream",
     "text": [
      "Original vector\n",
      "[29  3 18  6]\n",
      "Vector with the square of these integers\n",
      "[5.38516481 1.73205081 4.24264069 2.44948974]\n"
     ]
    }
   ],
   "execution_count": 194
  },
  {
   "metadata": {},
   "cell_type": "code",
   "source": "",
   "id": "207bd328c5a0cb4",
   "outputs": [],
   "execution_count": null
  }
 ],
 "metadata": {
  "kernelspec": {
   "display_name": "Python 3",
   "language": "python",
   "name": "python3"
  },
  "language_info": {
   "codemirror_mode": {
    "name": "ipython",
    "version": 2
   },
   "file_extension": ".py",
   "mimetype": "text/x-python",
   "name": "python",
   "nbconvert_exporter": "python",
   "pygments_lexer": "ipython2",
   "version": "2.7.6"
  }
 },
 "nbformat": 4,
 "nbformat_minor": 5
}
