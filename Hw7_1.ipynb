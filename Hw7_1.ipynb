{
 "cells": [
  {
   "cell_type": "code",
   "id": "initial_id",
   "metadata": {
    "collapsed": true,
    "ExecuteTime": {
     "end_time": "2024-07-07T21:47:01.581207Z",
     "start_time": "2024-07-07T21:47:00.815162Z"
    }
   },
   "source": [
    "import pandas as pd\n",
    "import matplotlib.pyplot as plt\n",
    "from surprise import Dataset, Reader, SVD, SVDpp, NMF\n",
    "from surprise.model_selection import cross_validate, GridSearchCV\n",
    "from surprise import accuracy\n",
    "from surprise.model_selection import train_test_split\n",
    "import numpy as np\n",
    "\n",
    "\n",
    "ratings = pd.read_csv('ml-latest-small/ratings.csv')\n",
    "print(f\"Ratings dataset shape: {ratings.shape}\")\n",
    "ratings.head()"
   ],
   "outputs": [
    {
     "name": "stdout",
     "output_type": "stream",
     "text": [
      "Ratings dataset shape: (100836, 4)\n"
     ]
    },
    {
     "data": {
      "text/plain": [
       "   userId  movieId  rating  timestamp\n",
       "0       1        1     4.0  964982703\n",
       "1       1        3     4.0  964981247\n",
       "2       1        6     4.0  964982224\n",
       "3       1       47     5.0  964983815\n",
       "4       1       50     5.0  964982931"
      ],
      "text/html": [
       "<div>\n",
       "<style scoped>\n",
       "    .dataframe tbody tr th:only-of-type {\n",
       "        vertical-align: middle;\n",
       "    }\n",
       "\n",
       "    .dataframe tbody tr th {\n",
       "        vertical-align: top;\n",
       "    }\n",
       "\n",
       "    .dataframe thead th {\n",
       "        text-align: right;\n",
       "    }\n",
       "</style>\n",
       "<table border=\"1\" class=\"dataframe\">\n",
       "  <thead>\n",
       "    <tr style=\"text-align: right;\">\n",
       "      <th></th>\n",
       "      <th>userId</th>\n",
       "      <th>movieId</th>\n",
       "      <th>rating</th>\n",
       "      <th>timestamp</th>\n",
       "    </tr>\n",
       "  </thead>\n",
       "  <tbody>\n",
       "    <tr>\n",
       "      <th>0</th>\n",
       "      <td>1</td>\n",
       "      <td>1</td>\n",
       "      <td>4.0</td>\n",
       "      <td>964982703</td>\n",
       "    </tr>\n",
       "    <tr>\n",
       "      <th>1</th>\n",
       "      <td>1</td>\n",
       "      <td>3</td>\n",
       "      <td>4.0</td>\n",
       "      <td>964981247</td>\n",
       "    </tr>\n",
       "    <tr>\n",
       "      <th>2</th>\n",
       "      <td>1</td>\n",
       "      <td>6</td>\n",
       "      <td>4.0</td>\n",
       "      <td>964982224</td>\n",
       "    </tr>\n",
       "    <tr>\n",
       "      <th>3</th>\n",
       "      <td>1</td>\n",
       "      <td>47</td>\n",
       "      <td>5.0</td>\n",
       "      <td>964983815</td>\n",
       "    </tr>\n",
       "    <tr>\n",
       "      <th>4</th>\n",
       "      <td>1</td>\n",
       "      <td>50</td>\n",
       "      <td>5.0</td>\n",
       "      <td>964982931</td>\n",
       "    </tr>\n",
       "  </tbody>\n",
       "</table>\n",
       "</div>"
      ]
     },
     "execution_count": 1,
     "metadata": {},
     "output_type": "execute_result"
    }
   ],
   "execution_count": 1
  },
  {
   "metadata": {
    "ExecuteTime": {
     "end_time": "2024-07-07T21:47:03.506917Z",
     "start_time": "2024-07-07T21:47:03.379225Z"
    }
   },
   "cell_type": "code",
   "source": [
    "reader = Reader(rating_scale=(0.5, 5.0))\n",
    "data = Dataset.load_from_df(ratings[['userId', 'movieId', 'rating']], reader)\n",
    "trainset, testset = train_test_split(data, test_size=0.25)\n",
    "\n",
    "trainset_size = sum(1 for _ in trainset.all_ratings())\n",
    "testset_size = len(testset)\n",
    "\n",
    "print(f\"Trainset size: {trainset_size}\")\n",
    "print(f\"Testset size: {testset_size}\")"
   ],
   "id": "1104e29d9d2fa246",
   "outputs": [
    {
     "name": "stdout",
     "output_type": "stream",
     "text": [
      "Trainset size: 75627\n",
      "Testset size: 25209\n"
     ]
    }
   ],
   "execution_count": 2
  },
  {
   "metadata": {
    "ExecuteTime": {
     "end_time": "2024-07-07T21:47:06.273619Z",
     "start_time": "2024-07-07T21:47:06.270197Z"
    }
   },
   "cell_type": "code",
   "source": [
    "# Function to perform grid search and return the best model and its performance\n",
    "def perform_grid_search(algo, param_grid, data):\n",
    "    gs = GridSearchCV(algo, param_grid, measures=['rmse', 'mae'], cv=3, n_jobs=-1, joblib_verbose=5)\n",
    "    gs.fit(data)\n",
    "    best_algo = gs.best_estimator['rmse']\n",
    "    best_params = gs.best_params['rmse']\n",
    "    return best_algo, best_params"
   ],
   "id": "ede4f9fec6f98f85",
   "outputs": [],
   "execution_count": 3
  },
  {
   "metadata": {
    "ExecuteTime": {
     "end_time": "2024-07-07T21:47:24.802196Z",
     "start_time": "2024-07-07T21:47:08.761947Z"
    }
   },
   "cell_type": "code",
   "source": [
    "param_grid_svd = {\n",
    "    'n_factors': [50, 100, 150],\n",
    "    'n_epochs': [20, 30],\n",
    "    'lr_all': [0.002, 0.005],\n",
    "    'reg_all': [0.02, 0.1]\n",
    "}\n",
    "\n",
    "# Perform GridSearchCV for SVD\n",
    "best_svd, best_params_svd = perform_grid_search(SVD, param_grid_svd, data)\n",
    "print(f\"Best SVD parameters: {best_params_svd}\")\n",
    "\n",
    "# Train and evaluate the best SVD model\n",
    "best_svd.fit(trainset)\n",
    "predictions_svd = best_svd.test(testset)\n",
    "rmse_svd = accuracy.rmse(predictions_svd)\n",
    "mae_svd = accuracy.mae(predictions_svd)\n",
    "print(f\"SVD RMSE: {rmse_svd}, MAE: {mae_svd}\")\n",
    "\n",
    "# Perform 3-fold cross-validation\n",
    "cv_results_svd = cross_validate(best_svd, data, measures=['RMSE', 'MAE'], cv=3, verbose=True)\n",
    "print(f\"Average RMSE: {np.mean(cv_results_svd['test_rmse'])}\")\n",
    "print(f\"Average MAE: {np.mean(cv_results_svd['test_mae'])}\")"
   ],
   "id": "746ba836ed6d4793",
   "outputs": [
    {
     "name": "stderr",
     "output_type": "stream",
     "text": [
      "[Parallel(n_jobs=-1)]: Using backend LokyBackend with 16 concurrent workers.\n",
      "[Parallel(n_jobs=-1)]: Done  40 tasks      | elapsed:    6.0s\n",
      "[Parallel(n_jobs=-1)]: Done  56 out of  72 | elapsed:    8.2s remaining:    2.3s\n",
      "[Parallel(n_jobs=-1)]: Done  72 out of  72 | elapsed:   10.9s finished\n"
     ]
    },
    {
     "name": "stdout",
     "output_type": "stream",
     "text": [
      "Best SVD parameters: {'n_factors': 150, 'n_epochs': 30, 'lr_all': 0.005, 'reg_all': 0.1}\n",
      "RMSE: 0.8680\n",
      "MAE:  0.6683\n",
      "SVD RMSE: 0.8680284261605721, MAE: 0.6683206319432304\n",
      "Evaluating RMSE, MAE of algorithm SVD on 3 split(s).\n",
      "\n",
      "                  Fold 1  Fold 2  Fold 3  Mean    Std     \n",
      "RMSE (testset)    0.8729  0.8722  0.8688  0.8713  0.0018  \n",
      "MAE (testset)     0.6698  0.6709  0.6688  0.6698  0.0009  \n",
      "Fit time          1.03    1.01    1.00    1.02    0.01    \n",
      "Test time         0.13    0.13    0.09    0.12    0.02    \n",
      "Average RMSE: 0.8712925417568192\n",
      "Average MAE: 0.669844024433448\n"
     ]
    }
   ],
   "execution_count": 4
  },
  {
   "metadata": {
    "ExecuteTime": {
     "end_time": "2024-07-07T22:15:30.294144Z",
     "start_time": "2024-07-07T21:47:53.946287Z"
    }
   },
   "cell_type": "code",
   "source": [
    "param_grid_svdpp = {\n",
    "    'n_factors': [20, 50, 100],\n",
    "    'n_epochs': [20, 30],\n",
    "    'lr_all': [0.007, 0.01],\n",
    "    'reg_all': [0.02, 0.1]\n",
    "}\n",
    "\n",
    "# Perform GridSearchCV for SVD++\n",
    "best_svdpp, best_params_svdpp = perform_grid_search(SVDpp, param_grid_svdpp, data)\n",
    "print(f\"Best SVD++ parameters: {best_params_svdpp}\")\n",
    "\n",
    "# Train and evaluate the best SVD++ model\n",
    "best_svdpp.fit(trainset)\n",
    "predictions_svdpp = best_svdpp.test(testset)\n",
    "rmse_svdpp = accuracy.rmse(predictions_svdpp)\n",
    "mae_svdpp = accuracy.mae(predictions_svdpp)\n",
    "print(f\"SVD++ RMSE: {rmse_svdpp}, MAE: {mae_svdpp}\")\n",
    "\n",
    "# Perform 3-fold cross-validation\n",
    "cv_results_svdpp = cross_validate(best_svdpp, data, measures=['RMSE', 'MAE'], cv=3, verbose=True)\n",
    "print(f\"Average RMSE: {np.mean(cv_results_svdpp['test_rmse'])}\")\n",
    "print(f\"Average MAE: {np.mean(cv_results_svdpp['test_mae'])}\")"
   ],
   "id": "69761a341bc7a12f",
   "outputs": [
    {
     "name": "stderr",
     "output_type": "stream",
     "text": [
      "[Parallel(n_jobs=-1)]: Using backend LokyBackend with 16 concurrent workers.\n",
      "[Parallel(n_jobs=-1)]: Done  40 tasks      | elapsed:  5.9min\n",
      "[Parallel(n_jobs=-1)]: Done  56 out of  72 | elapsed: 11.1min remaining:  3.2min\n",
      "[Parallel(n_jobs=-1)]: Done  72 out of  72 | elapsed: 15.5min finished\n"
     ]
    },
    {
     "name": "stdout",
     "output_type": "stream",
     "text": [
      "Best SVD++ parameters: {'n_factors': 100, 'n_epochs': 30, 'lr_all': 0.01, 'reg_all': 0.1}\n",
      "RMSE: 0.8545\n",
      "MAE:  0.6570\n",
      "SVD++ RMSE: 0.8545192159481132, MAE: 0.6570354586270487\n",
      "Evaluating RMSE, MAE of algorithm SVDpp on 3 split(s).\n",
      "\n",
      "                  Fold 1  Fold 2  Fold 3  Mean    Std     \n",
      "RMSE (testset)    0.8640  0.8598  0.8580  0.8606  0.0025  \n",
      "MAE (testset)     0.6631  0.6590  0.6588  0.6603  0.0020  \n",
      "Fit time          163.07  163.72  163.06  163.28  0.31    \n",
      "Test time         6.92    6.87    6.93    6.90    0.02    \n",
      "Average RMSE: 0.8606183565323223\n",
      "Average MAE: 0.6602822515168704\n"
     ]
    }
   ],
   "execution_count": 6
  },
  {
   "metadata": {
    "ExecuteTime": {
     "end_time": "2024-07-07T21:47:50.692767Z",
     "start_time": "2024-07-07T21:47:27.921020Z"
    }
   },
   "cell_type": "code",
   "source": [
    "param_grid_nmf = {\n",
    "    'n_factors': [15, 30, 40],\n",
    "    'n_epochs': [30, 50],\n",
    "    'reg_pu': [0.06, 0.1],\n",
    "    'reg_qi': [0.06, 0.1]\n",
    "}\n",
    "\n",
    "# Perform GridSearchCV for NMF\n",
    "best_nmf, best_params_nmf = perform_grid_search(NMF, param_grid_nmf, data)\n",
    "print(f\"Best NMF parameters: {best_params_nmf}\")\n",
    "\n",
    "# Train and evaluate the best NMF model\n",
    "best_nmf.fit(trainset)\n",
    "predictions_nmf = best_nmf.test(testset)\n",
    "rmse_nmf = accuracy.rmse(predictions_nmf)\n",
    "mae_nmf = accuracy.mae(predictions_nmf)\n",
    "print(f\"NMF RMSE: {rmse_nmf}, MAE: {mae_nmf}\")\n",
    "\n",
    "# Perform 3-fold cross-validation\n",
    "cv_results_nmf = cross_validate(best_nmf, data, measures=['RMSE', 'MAE'], cv=3, verbose=True)\n",
    "print(f\"Average RMSE: {np.mean(cv_results_nmf['test_rmse'])}\")\n",
    "print(f\"Average MAE: {np.mean(cv_results_nmf['test_mae'])}\")"
   ],
   "id": "45a9df6417f39808",
   "outputs": [
    {
     "name": "stderr",
     "output_type": "stream",
     "text": [
      "[Parallel(n_jobs=-1)]: Using backend LokyBackend with 16 concurrent workers.\n",
      "[Parallel(n_jobs=-1)]: Done  40 tasks      | elapsed:    8.7s\n",
      "[Parallel(n_jobs=-1)]: Done  56 out of  72 | elapsed:   11.9s remaining:    3.3s\n",
      "[Parallel(n_jobs=-1)]: Done  72 out of  72 | elapsed:   14.7s finished\n"
     ]
    },
    {
     "name": "stdout",
     "output_type": "stream",
     "text": [
      "Best NMF parameters: {'n_factors': 40, 'n_epochs': 50, 'reg_pu': 0.1, 'reg_qi': 0.1}\n",
      "RMSE: 0.8965\n",
      "MAE:  0.6870\n",
      "NMF RMSE: 0.8965287881933884, MAE: 0.6870328230954402\n",
      "Evaluating RMSE, MAE of algorithm NMF on 3 split(s).\n",
      "\n",
      "                  Fold 1  Fold 2  Fold 3  Mean    Std     \n",
      "RMSE (testset)    0.9115  0.8979  0.9027  0.9040  0.0056  \n",
      "MAE (testset)     0.6968  0.6881  0.6899  0.6916  0.0037  \n",
      "Fit time          1.74    1.76    1.72    1.74    0.01    \n",
      "Test time         0.12    0.12    0.07    0.10    0.02    \n",
      "Average RMSE: 0.9040248026175438\n",
      "Average MAE: 0.6916042000022192\n"
     ]
    }
   ],
   "execution_count": 5
  },
  {
   "metadata": {
    "ExecuteTime": {
     "end_time": "2024-07-07T23:22:44.989401Z",
     "start_time": "2024-07-07T23:22:44.985092Z"
    }
   },
   "cell_type": "code",
   "source": [
    "# Creating a DataFrame to compare RMSE and MAE results for all models\n",
    "results_rmse = pd.DataFrame({\n",
    "    'SVD': cv_results_svd['test_rmse'],\n",
    "    'SVD++': cv_results_svdpp['test_rmse'],\n",
    "    'NMF': cv_results_nmf['test_rmse']\n",
    "})\n",
    "\n",
    "results_mae = pd.DataFrame({\n",
    "    'SVD': cv_results_svd['test_mae'],\n",
    "    'SVD++': cv_results_svdpp['test_mae'],\n",
    "    'NMF': cv_results_nmf['test_mae']\n",
    "})\n",
    "\n",
    "# Determining the best model based on RMSE\n",
    "best_model_rmse = min(results_rmse.items(), key=lambda x: x[1][0])[0]\n",
    "print(f\"The best model based on RMSE is {best_model_rmse}\")\n",
    "\n",
    "# Determining the best model based on MAE\n",
    "best_model_mae = min(results_mae.items(), key=lambda x: x[1][1])[0]\n",
    "print(f\"The best model based on MAE is {best_model_mae}\")"
   ],
   "id": "b20eaac1bfe9a211",
   "outputs": [
    {
     "name": "stdout",
     "output_type": "stream",
     "text": [
      "The best model based on RMSE is SVD++\n",
      "The best model based on MAE is SVD++\n"
     ]
    }
   ],
   "execution_count": 7
  },
  {
   "metadata": {
    "ExecuteTime": {
     "end_time": "2024-07-07T23:22:47.756300Z",
     "start_time": "2024-07-07T23:22:47.550109Z"
    }
   },
   "cell_type": "code",
   "source": [
    "avg_rmse = results_rmse.mean()\n",
    "avg_mae = results_mae.mean()\n",
    "\n",
    "plt.figure(figsize=(8, 4))\n",
    "avg_rmse.plot(kind='bar', color=['blue', 'green', 'red'])\n",
    "plt.title('Average RMSE Comparison')\n",
    "plt.ylabel('Root Mean Square Error (RMSE)')\n",
    "plt.xticks(rotation=0)\n",
    "plt.grid()\n",
    "plt.show()\n",
    "\n",
    "plt.figure(figsize=(8, 4))\n",
    "avg_mae.plot(kind='bar', color=['blue', 'green', 'red'])\n",
    "plt.title('Average MAE Comparison')\n",
    "plt.ylabel('Mean Absolute Error (MAE)')\n",
    "plt.xticks(rotation=0)\n",
    "plt.grid()\n",
    "plt.show()"
   ],
   "id": "4260b554f367b7bb",
   "outputs": [
    {
     "data": {
      "text/plain": [
       "<Figure size 800x400 with 1 Axes>"
      ],
      "image/png": "[encoded data removed]"
     },
     "metadata": {},
     "output_type": "display_data"
    },
    {
     "data": {
      "text/plain": [
       "<Figure size 800x400 with 1 Axes>"
      ],
      "image/png": "[encoded data removed]"
     },
     "metadata": {},
     "output_type": "display_data"
    }
   ],
   "execution_count": 8
  }
 ],
 "metadata": {
  "kernelspec": {
   "display_name": "Python 3",
   "language": "python",
   "name": "python3"
  },
  "language_info": {
   "codemirror_mode": {
    "name": "ipython",
    "version": 2
   },
   "file_extension": ".py",
   "mimetype": "text/x-python",
   "name": "python",
   "nbconvert_exporter": "python",
   "pygments_lexer": "ipython2",
   "version": "2.7.6"
  }
 },
 "nbformat": 4,
 "nbformat_minor": 5
}
