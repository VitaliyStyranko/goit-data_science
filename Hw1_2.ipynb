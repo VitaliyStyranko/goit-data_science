{
 "cells": [
  {
   "cell_type": "code",
   "id": "initial_id",
   "metadata": {
    "collapsed": true,
    "ExecuteTime": {
     "end_time": "2024-05-18T16:47:20.893917Z",
     "start_time": "2024-05-18T16:47:20.463497Z"
    }
   },
   "source": "import numpy as np",
   "outputs": [],
   "execution_count": 5
  },
  {
   "metadata": {},
   "cell_type": "code",
   "outputs": [],
   "execution_count": null,
   "source": "# 1. Замініть усі непарні числа в arr на -1 arr = np.array([0, 1, 2, 3, 4, 5, 6, 7, 8, 9])",
   "id": "abb929f20585027b"
  },
  {
   "metadata": {
    "ExecuteTime": {
     "end_time": "2024-05-17T14:21:07.535457Z",
     "start_time": "2024-05-17T14:21:07.531426Z"
    }
   },
   "cell_type": "code",
   "source": [
    "arr = np.array([0, 1, 2, 3, 4, 5, 6, 7, 8, 9])\n",
    "arr[arr %2 == 1] = -1\n",
    "print(arr)"
   ],
   "id": "9787cd7a276c2de4",
   "outputs": [
    {
     "name": "stdout",
     "output_type": "stream",
     "text": [
      "[ 0 -1  2 -1  4 -1  6 -1  8 -1]\n"
     ]
    }
   ],
   "execution_count": 4
  },
  {
   "metadata": {},
   "cell_type": "code",
   "outputs": [],
   "execution_count": null,
   "source": "# 2. Створіть та перетворіть 1D-масив на 2D-масив із 2 рядками",
   "id": "5776f575ed6d7570"
  },
  {
   "metadata": {
    "ExecuteTime": {
     "end_time": "2024-05-17T18:15:17.602443Z",
     "start_time": "2024-05-17T18:15:17.599160Z"
    }
   },
   "cell_type": "code",
   "source": [
    "a = np.arange(10)\n",
    "print(a)\n",
    "b = a.reshape(2, -1)\n",
    "print(b)"
   ],
   "id": "15e86fe331bbb67e",
   "outputs": [
    {
     "name": "stdout",
     "output_type": "stream",
     "text": [
      "[0 1 2 3 4 5 6 7 8 9]\n",
      "[[0 1 2 3 4]\n",
      " [5 6 7 8 9]]\n"
     ]
    }
   ],
   "execution_count": 28
  },
  {
   "metadata": {},
   "cell_type": "code",
   "outputs": [],
   "execution_count": null,
   "source": "# 3. Створіть два двовимірні масиви а і b, та складіть масиви їх вертикально",
   "id": "625c646a4cf583c1"
  },
  {
   "metadata": {
    "ExecuteTime": {
     "end_time": "2024-05-17T18:28:09.898887Z",
     "start_time": "2024-05-17T18:28:09.893835Z"
    }
   },
   "cell_type": "code",
   "source": [
    "a = np.random.randint(1, 10, (2, 2))\n",
    "print(a)\n",
    "b = np.random.randint(1, 10, (2, 2))\n",
    "print(b)\n",
    "c = np.vstack((a, b))\n",
    "print('Vertical stack a and b:')\n",
    "print(c)\n"
   ],
   "id": "c5ad2e39185852c9",
   "outputs": [
    {
     "name": "stdout",
     "output_type": "stream",
     "text": [
      "[[2 2]\n",
      " [8 8]]\n",
      "[[9 5]\n",
      " [1 8]]\n",
      "Vertical stack a and b:\n",
      "[[2 2]\n",
      " [8 8]\n",
      " [9 5]\n",
      " [1 8]]\n"
     ]
    }
   ],
   "execution_count": 44
  },
  {
   "metadata": {},
   "cell_type": "code",
   "outputs": [],
   "execution_count": null,
   "source": "# 4. Створіть наступний шаблон без жорсткого кодування(Hard coding) . Використовуйте лише функції Numpy і наведений нижче масив введення Input:a = np.array([1,2,3])   Output:array([1, 1, 1, 2, 2, 2, 3, 3, 3, 1, 2, 3, 1, 2, 3, 1, 2, 3])",
   "id": "fd13ab40db192c7a"
  },
  {
   "metadata": {
    "ExecuteTime": {
     "end_time": "2024-05-17T19:23:24.672670Z",
     "start_time": "2024-05-17T19:23:24.669693Z"
    }
   },
   "cell_type": "code",
   "source": [
    "a = np.array([1, 2, 3])\n",
    "output = np.r_[np.repeat(a, 3), np.tile(a, 3)]\n",
    "print(output)\n"
   ],
   "id": "d2632743b437dd9c",
   "outputs": [
    {
     "name": "stdout",
     "output_type": "stream",
     "text": [
      "[1 1 1 2 2 2 3 3 3 1 2 3 1 2 3 1 2 3]\n"
     ]
    }
   ],
   "execution_count": 60
  },
  {
   "metadata": {},
   "cell_type": "code",
   "outputs": [],
   "execution_count": null,
   "source": [
    "# 5. Отримайте спільні елементи між a і b\n",
    "# a = np.array([1,2,3,2,3,4,3,4,5,6]) b = np.array([7,2,10,2,7,4,9,4,9,8])"
   ],
   "id": "a37c60742303ce64"
  },
  {
   "metadata": {
    "ExecuteTime": {
     "end_time": "2024-05-17T19:41:15.648341Z",
     "start_time": "2024-05-17T19:41:15.644687Z"
    }
   },
   "cell_type": "code",
   "source": [
    "a = np.array([1,2,3,2,3,4,3,4,5,6])\n",
    "b = np.array([7,2,10,2,7,4,9,4,9,8])\n",
    "c = np.intersect1d(a, b)\n",
    "print('Спільні елементи a і b')\n",
    "print(c)"
   ],
   "id": "3cd17a812c19a288",
   "outputs": [
    {
     "name": "stdout",
     "output_type": "stream",
     "text": [
      "Спільні елементи a і b\n",
      "[2 4]\n"
     ]
    }
   ],
   "execution_count": 67
  },
  {
   "metadata": {},
   "cell_type": "code",
   "outputs": [],
   "execution_count": null,
   "source": [
    "# 6. Отримайте позиції перших 5 максимальних значень у заданому масиві a\n",
    "# np.random.seed(100) a = np.random.uniform(1,50, 20)"
   ],
   "id": "bc747a6a5d6c9953"
  },
  {
   "metadata": {
    "ExecuteTime": {
     "end_time": "2024-05-17T20:17:08.642309Z",
     "start_time": "2024-05-17T20:17:08.639278Z"
    }
   },
   "cell_type": "code",
   "source": [
    "np.random.seed(100)\n",
    "a = np.random.uniform(1, 50, 20)\n",
    "indices_of_top5 = np.argsort(a)[-5:][::-1]\n",
    "print(indices_of_top5)"
   ],
   "id": "7d11e8f6e5f0b52d",
   "outputs": [
    {
     "name": "stdout",
     "output_type": "stream",
     "text": [
      "[15 10  3  7 18]\n"
     ]
    }
   ],
   "execution_count": 96
  },
  {
   "metadata": {},
   "cell_type": "code",
   "outputs": [],
   "execution_count": null,
   "source": [
    "# 7. Вилучіть усі значення NaN із одновимірного масиву\n",
    "# а=np.array([1,2,3,np.nan,5,6,7,np.nan])"
   ],
   "id": "7d81b24d2218885f"
  },
  {
   "metadata": {
    "ExecuteTime": {
     "end_time": "2024-05-17T21:06:55.547522Z",
     "start_time": "2024-05-17T21:06:55.543389Z"
    }
   },
   "cell_type": "code",
   "source": [
    "a = np.array([1, 2, 3, np.nan, 5, 6, 7, np.nan])\n",
    "a_without_nan = a[~np.isnan(a)]\n",
    "print(a_without_nan)"
   ],
   "id": "7e449944763fa662",
   "outputs": [
    {
     "name": "stdout",
     "output_type": "stream",
     "text": [
      "[1. 2. 3. 5. 6. 7.]\n"
     ]
    }
   ],
   "execution_count": 106
  },
  {
   "metadata": {},
   "cell_type": "code",
   "outputs": [],
   "execution_count": null,
   "source": [
    "# 8. Обчисліть евклідову відстань між двома масивами a і b.\n",
    "# a = np.array([1,2,3,4,5]) b = np.array([4,5,6,7,8])"
   ],
   "id": "93c6f49851d4561c"
  },
  {
   "metadata": {
    "ExecuteTime": {
     "end_time": "2024-05-18T17:14:20.842746Z",
     "start_time": "2024-05-18T17:14:20.839765Z"
    }
   },
   "cell_type": "code",
   "source": [
    "a = np.array([1, 2, 3, 4, 5])\n",
    "b = np.array([4, 5, 6, 7, 8])\n",
    "euclidean_distance = np.linalg.norm(a - b)\n",
    "print('Euclidean distance:', euclidean_distance)"
   ],
   "id": "a6a812c457b200a7",
   "outputs": [
    {
     "name": "stdout",
     "output_type": "stream",
     "text": [
      "Euclidean distance: 6.708203932499369\n"
     ]
    }
   ],
   "execution_count": 14
  },
  {
   "metadata": {},
   "cell_type": "code",
   "outputs": [],
   "execution_count": null,
   "source": [
    "# 9. Знайдіть індекс 5-го повторення числа 1 у масиві x\n",
    "# x = np.array([1, 2, 1, 1, 3, 4, 3, 1, 1, 2, 1, 1, 2])"
   ],
   "id": "23cb234d097b806f"
  },
  {
   "metadata": {
    "ExecuteTime": {
     "end_time": "2024-05-18T17:27:36.307992Z",
     "start_time": "2024-05-18T17:27:36.304910Z"
    }
   },
   "cell_type": "code",
   "source": [
    "x = np.array([1, 2, 1, 1, 3, 4, 3, 1, 1, 2, 1, 1, 2])\n",
    "indices_of_ones = np.where(x == 1)[0]\n",
    "fifth_index = indices_of_ones[4]\n",
    "print('Fifth index:', fifth_index)\n"
   ],
   "id": "cb35182381092182",
   "outputs": [
    {
     "name": "stdout",
     "output_type": "stream",
     "text": [
      "Fifth index: 8\n"
     ]
    }
   ],
   "execution_count": 31
  },
  {
   "metadata": {},
   "cell_type": "code",
   "outputs": [],
   "execution_count": null,
   "source": [
    "# 10. Знайдіть повторювані записи (від 2-го випадку повторення і далі) у заданому масиві і позначте їх як True. \n",
    "# Перше повторення має бути False.\n",
    "# #Input \n",
    "# np.random.seed(100) \n",
    "# a = np.random.randint(0, 5, 10) \n",
    "# [0 0 3 0 2 4 2 2 2 2] \n",
    "# #Output [False True False True False False True True True True]"
   ],
   "id": "4cb27d2a3de4185c"
  },
  {
   "metadata": {
    "ExecuteTime": {
     "end_time": "2024-05-18T19:15:34.939312Z",
     "start_time": "2024-05-18T19:15:34.934909Z"
    }
   },
   "cell_type": "code",
   "source": [
    "np.random.seed(100)\n",
    "a = np.random.randint(0, 5, 10)\n",
    "print(\"Array a:\", a)\n",
    "# counts = np.bincount(a)  # використовується для підрахунку кількості появ кожного елемента\n",
    "b = np.zeros_like(a, dtype=bool)\n",
    "# print(b)\n",
    "for number in np.unique(a):\n",
    "    indices = np.where(a == number)[0]\n",
    "    if len(indices) > 1:\n",
    "        b[indices[1:]] = True\n",
    "print(\"Output:\", b)\n",
    "# print(counts)\n",
    "\n",
    "        "
   ],
   "id": "553d6bbb14b3e33c",
   "outputs": [
    {
     "name": "stdout",
     "output_type": "stream",
     "text": [
      "Array a: [0 0 3 0 2 4 2 2 2 2]\n",
      "Output: [False  True False  True False False  True  True  True  True]\n"
     ]
    }
   ],
   "execution_count": 73
  }
 ],
 "metadata": {
  "kernelspec": {
   "display_name": "Python 3",
   "language": "python",
   "name": "python3"
  },
  "language_info": {
   "codemirror_mode": {
    "name": "ipython",
    "version": 2
   },
   "file_extension": ".py",
   "mimetype": "text/x-python",
   "name": "python",
   "nbconvert_exporter": "python",
   "pygments_lexer": "ipython2",
   "version": "2.7.6"
  }
 },
 "nbformat": 4,
 "nbformat_minor": 5
}
